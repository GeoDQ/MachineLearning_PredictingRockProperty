{
 "cells": [
  {
   "cell_type": "markdown",
   "metadata": {},
   "source": [
    "#  Predicting rock properties using regression\n",
    "Dongfang Qu, University of Copenhagen"
   ]
  },
  {
   "cell_type": "markdown",
   "metadata": {},
   "source": [
    "## 1 Data preparation"
   ]
  },
  {
   "cell_type": "markdown",
   "metadata": {},
   "source": [
    "### 1.1 Understand and visualize the data"
   ]
  },
  {
   "cell_type": "code",
   "execution_count": 6,
   "metadata": {},
   "outputs": [
    {
     "data": {
      "text/html": [
       "<div>\n",
       "<style scoped>\n",
       "    .dataframe tbody tr th:only-of-type {\n",
       "        vertical-align: middle;\n",
       "    }\n",
       "\n",
       "    .dataframe tbody tr th {\n",
       "        vertical-align: top;\n",
       "    }\n",
       "\n",
       "    .dataframe thead th {\n",
       "        text-align: right;\n",
       "    }\n",
       "</style>\n",
       "<table border=\"1\" class=\"dataframe\">\n",
       "  <thead>\n",
       "    <tr style=\"text-align: right;\">\n",
       "      <th></th>\n",
       "      <th>depth</th>\n",
       "      <th>porosity</th>\n",
       "      <th>Vp</th>\n",
       "      <th>Gamma</th>\n",
       "    </tr>\n",
       "  </thead>\n",
       "  <tbody>\n",
       "    <tr>\n",
       "      <th>0</th>\n",
       "      <td>41.93</td>\n",
       "      <td>44.06</td>\n",
       "      <td>2335.40</td>\n",
       "      <td>2.260</td>\n",
       "    </tr>\n",
       "    <tr>\n",
       "      <th>1</th>\n",
       "      <td>43.10</td>\n",
       "      <td>45.67</td>\n",
       "      <td>2224.62</td>\n",
       "      <td>3.373</td>\n",
       "    </tr>\n",
       "    <tr>\n",
       "      <th>2</th>\n",
       "      <td>43.98</td>\n",
       "      <td>45.01</td>\n",
       "      <td>2177.48</td>\n",
       "      <td>3.240</td>\n",
       "    </tr>\n",
       "    <tr>\n",
       "      <th>3</th>\n",
       "      <td>45.95</td>\n",
       "      <td>43.66</td>\n",
       "      <td>2173.71</td>\n",
       "      <td>2.269</td>\n",
       "    </tr>\n",
       "    <tr>\n",
       "      <th>4</th>\n",
       "      <td>46.26</td>\n",
       "      <td>44.38</td>\n",
       "      <td>2056.67</td>\n",
       "      <td>1.808</td>\n",
       "    </tr>\n",
       "  </tbody>\n",
       "</table>\n",
       "</div>"
      ],
      "text/plain": [
       "   depth  porosity       Vp  Gamma\n",
       "0  41.93     44.06  2335.40  2.260\n",
       "1  43.10     45.67  2224.62  3.373\n",
       "2  43.98     45.01  2177.48  3.240\n",
       "3  45.95     43.66  2173.71  2.269\n",
       "4  46.26     44.38  2056.67  1.808"
      ]
     },
     "execution_count": 6,
     "metadata": {},
     "output_type": "execute_result"
    }
   ],
   "source": [
    "import pandas as pd\n",
    "df = pd.read_csv('Data.csv')\n",
    "df.head(n=5)"
   ]
  },
  {
   "cell_type": "code",
   "execution_count": 7,
   "metadata": {},
   "outputs": [
    {
     "data": {
      "text/html": [
       "<div>\n",
       "<style scoped>\n",
       "    .dataframe tbody tr th:only-of-type {\n",
       "        vertical-align: middle;\n",
       "    }\n",
       "\n",
       "    .dataframe tbody tr th {\n",
       "        vertical-align: top;\n",
       "    }\n",
       "\n",
       "    .dataframe thead th {\n",
       "        text-align: right;\n",
       "    }\n",
       "</style>\n",
       "<table border=\"1\" class=\"dataframe\">\n",
       "  <thead>\n",
       "    <tr style=\"text-align: right;\">\n",
       "      <th></th>\n",
       "      <th>porosity</th>\n",
       "      <th>Vp</th>\n",
       "      <th>Gamma</th>\n",
       "    </tr>\n",
       "  </thead>\n",
       "  <tbody>\n",
       "    <tr>\n",
       "      <th>porosity</th>\n",
       "      <td>1.000000</td>\n",
       "      <td>-0.639404</td>\n",
       "      <td>-0.614891</td>\n",
       "    </tr>\n",
       "    <tr>\n",
       "      <th>Vp</th>\n",
       "      <td>-0.639404</td>\n",
       "      <td>1.000000</td>\n",
       "      <td>0.340779</td>\n",
       "    </tr>\n",
       "    <tr>\n",
       "      <th>Gamma</th>\n",
       "      <td>-0.614891</td>\n",
       "      <td>0.340779</td>\n",
       "      <td>1.000000</td>\n",
       "    </tr>\n",
       "  </tbody>\n",
       "</table>\n",
       "</div>"
      ],
      "text/plain": [
       "          porosity        Vp     Gamma\n",
       "porosity  1.000000 -0.639404 -0.614891\n",
       "Vp       -0.639404  1.000000  0.340779\n",
       "Gamma    -0.614891  0.340779  1.000000"
      ]
     },
     "execution_count": 7,
     "metadata": {},
     "output_type": "execute_result"
    }
   ],
   "source": [
    "#check correlation between features\n",
    "df[['porosity', 'Vp', 'Gamma']].corr()\n"
   ]
  },
  {
   "cell_type": "code",
   "execution_count": 8,
   "metadata": {},
   "outputs": [
    {
     "data": {
      "image/png": "[encoded data removed]",
      "text/plain": [
       "<Figure size 864x360 with 6 Axes>"
      ]
     },
     "metadata": {
      "needs_background": "light"
     },
     "output_type": "display_data"
    }
   ],
   "source": [
    "#histogram\n",
    "import matplotlib.pyplot as plt\n",
    "df.hist(figsize = (12,5),layout= (2,3))\n",
    "plt.show()"
   ]
  },
  {
   "cell_type": "code",
   "execution_count": 9,
   "metadata": {},
   "outputs": [
    {
     "data": {
      "text/plain": [
       "pandas.core.frame.DataFrame"
      ]
     },
     "execution_count": 9,
     "metadata": {},
     "output_type": "execute_result"
    }
   ],
   "source": [
    "y = df[['porosity']]\n",
    "X = df[['Vp','Gamma']]\n",
    "type(X)"
   ]
  },
  {
   "cell_type": "code",
   "execution_count": 10,
   "metadata": {},
   "outputs": [
    {
     "data": {
      "image/png": "[encoded data removed]",
      "text/plain": [
       "<Figure size 432x288 with 4 Axes>"
      ]
     },
     "metadata": {
      "needs_background": "light"
     },
     "output_type": "display_data"
    }
   ],
   "source": [
    "from pandas.plotting import scatter_matrix\n",
    "scatter_matrix(X,c = y['porosity'],cmap= 'rainbow')\n",
    "plt.show()"
   ]
  },
  {
   "cell_type": "code",
   "execution_count": 11,
   "metadata": {},
   "outputs": [
    {
     "data": {
      "image/png": "[encoded data removed]",
      "text/plain": [
       "<Figure size 432x288 with 2 Axes>"
      ]
     },
     "metadata": {
      "needs_background": "light"
     },
     "output_type": "display_data"
    }
   ],
   "source": [
    "ax = plt.gca() #get currect axis\n",
    "df.plot(kind='scatter',x='Vp',y='Gamma',c = 'porosity',cmap= 'rainbow',ax=ax)\n",
    "plt.show()"
   ]
  },
  {
   "cell_type": "markdown",
   "metadata": {},
   "source": [
    "### 1.2 Preprocessing data"
   ]
  },
  {
   "cell_type": "markdown",
   "metadata": {},
   "source": [
    "If we want to use the preprocessing in the ‘supervised learning’, then it is better to ‘split’ the dataset as ‘test and train’ first; and then apply the preprocessing to the ‘training data’ only. This is the good practice as in real-life problems we will not have the future data for preprocessing."
   ]
  },
  {
   "cell_type": "code",
   "execution_count": 22,
   "metadata": {},
   "outputs": [],
   "source": [
    "from sklearn.model_selection import train_test_split\n",
    "X_train, X_test, y_train, y_test = train_test_split(X, y, test_size= 0.2, random_state=42)"
   ]
  },
  {
   "cell_type": "code",
   "execution_count": 23,
   "metadata": {},
   "outputs": [
    {
     "name": "stdout",
     "output_type": "stream",
     "text": [
      "Vp       2553.564279\n",
      "Gamma       3.583380\n",
      "dtype: float64\n",
      "Vp       25392.630208\n",
      "Gamma        2.088846\n",
      "dtype: float64\n"
     ]
    }
   ],
   "source": [
    "import numpy as np\n",
    "print(np.mean(X_train))\n",
    "print(np.var(X_train))"
   ]
  },
  {
   "cell_type": "code",
   "execution_count": 24,
   "metadata": {},
   "outputs": [
    {
     "data": {
      "text/plain": [
       "numpy.ndarray"
      ]
     },
     "execution_count": 24,
     "metadata": {},
     "output_type": "execute_result"
    }
   ],
   "source": [
    "#StandardScaler sets the ‘mean = 0’ and ‘variance = 1’ for all the features\n",
    "from sklearn.preprocessing import StandardScaler\n",
    "scaler = StandardScaler().fit(X_train)\n",
    "X_train_std = scaler.transform(X_train)\n",
    "X_test_std = scaler.transform(X_test)\n",
    "type(X_train_std)# note that X_train_std is not panda dataframe anymore"
   ]
  },
  {
   "cell_type": "markdown",
   "metadata": {},
   "source": [
    "## 2 Training and validation"
   ]
  },
  {
   "cell_type": "markdown",
   "metadata": {},
   "source": [
    "### Algorithm 1: linear regression"
   ]
  },
  {
   "cell_type": "code",
   "execution_count": 26,
   "metadata": {},
   "outputs": [
    {
     "name": "stdout",
     "output_type": "stream",
     "text": [
      "[0.58370879 0.63140129 0.54008322 0.58602253 0.6416319 ]\n",
      "mean 0.5965695468963966\n"
     ]
    }
   ],
   "source": [
    "from sklearn.linear_model import LinearRegression\n",
    "\n",
    "# make a lin_reg object form the LinearRegression class\n",
    "lin_reg = LinearRegression()\n",
    "\n",
    "from sklearn.model_selection import cross_val_score\n",
    "from sklearn.model_selection import ShuffleSplit\n",
    "\n",
    "scores = cross_val_score(lin_reg, X_train_std, y_train,scoring='r2',cv=ShuffleSplit(n_splits=5, test_size=0.3, random_state=0))\n",
    "print(scores)\n",
    "print('mean',scores.mean())\n"
   ]
  },
  {
   "cell_type": "markdown",
   "metadata": {},
   "source": [
    "### Algorithm 2: SVM kernel regression\n"
   ]
  },
  {
   "cell_type": "code",
   "execution_count": 27,
   "metadata": {},
   "outputs": [
    {
     "name": "stdout",
     "output_type": "stream",
     "text": [
      "cross_score: [0.58369015 0.65540152 0.54574107 0.60188894 0.77113597]\n",
      "cross_score_mean 0.6315715292605996\n",
      "cross_score: [0.62185759 0.66402002 0.56064663 0.56729367 0.76409437]\n",
      "cross_score_mean 0.635582456072397\n",
      "cross_score: [0.6466907  0.67626673 0.55915339 0.53798944 0.75982279]\n",
      "cross_score_mean 0.6359846107780459\n",
      "cross_score: [0.66146742 0.66628008 0.55848144 0.56282883 0.76266412]\n",
      "cross_score_mean 0.6423443765695243\n",
      "cross_score: [0.66970653 0.6730254  0.55330869 0.56882314 0.7473479 ]\n",
      "cross_score_mean 0.6424423323560668\n",
      "cross_score: [0.63864735 0.64552072 0.51276735 0.52014188 0.6517218 ]\n",
      "cross_score_mean 0.5937598225617421\n",
      "cross_score: [0.51444001 0.64434503 0.50090151 0.61045305 0.78694748]\n",
      "cross_score_mean 0.6114174158872816\n"
     ]
    }
   ],
   "source": [
    "import numpy as np\n",
    "from sklearn.svm import SVR\n",
    "import matplotlib.pyplot as plt\n",
    "\n",
    "C_list = [20,10,5,3,2,1,1e2]\n",
    "for value in C_list:\n",
    "    svr_rbf = SVR(kernel='rbf', C=value, gamma = 'auto')\n",
    "   \n",
    "    cross_score = cross_val_score(svr_rbf, X_train_std, y_train.values.ravel(), scoring = 'r2', cv=ShuffleSplit(n_splits=5, test_size=0.2, random_state=0))\n",
    "    print('cross_score:',cross_score)\n",
    "    print('cross_score_mean',cross_score.mean())\n",
    " "
   ]
  },
  {
   "cell_type": "code",
   "execution_count": 16,
   "metadata": {},
   "outputs": [
    {
     "data": {
      "text/plain": [
       "0.8294016843314771"
      ]
     },
     "execution_count": 16,
     "metadata": {},
     "output_type": "execute_result"
    }
   ],
   "source": [
    "#y_train_pred2 = SVR(kernel='rbf', C=3, gamma = 'auto').fit(X_train_std, y_train.values.ravel()).predict(X_train_std)\n",
    "#r2_score(y_train, y_train_pred2)"
   ]
  },
  {
   "cell_type": "markdown",
   "metadata": {},
   "source": [
    "### Algorithm 3: KNN"
   ]
  },
  {
   "cell_type": "code",
   "execution_count": 28,
   "metadata": {},
   "outputs": [
    {
     "name": "stdout",
     "output_type": "stream",
     "text": [
      "cross_score: [0.53948102 0.5988308  0.33115984 0.43487881 0.55816628]\n",
      "cross_score_mean 0.4925033503509719\n",
      "cross_score: [0.62937965 0.64334826 0.37712162 0.48179945 0.6590649 ]\n",
      "cross_score_mean 0.5581427765147131\n",
      "cross_score: [0.65690008 0.65669798 0.43942571 0.54449851 0.71095538]\n",
      "cross_score_mean 0.6016955301178867\n",
      "cross_score: [0.6974821  0.6987588  0.47166883 0.53561341 0.69455474]\n",
      "cross_score_mean 0.6196155761150031\n",
      "cross_score: [0.67217566 0.69223472 0.52088193 0.54327497 0.67926393]\n",
      "cross_score_mean 0.6215662407343925\n"
     ]
    }
   ],
   "source": [
    "from sklearn.neighbors import KNeighborsRegressor\n",
    "for n in [3,5,7,9,11]:\n",
    "    regressor = KNeighborsRegressor(n_neighbors=n)\n",
    "   \n",
    "    cross_score = cross_val_score(regressor, X_train_std, y_train, scoring = 'r2', \\\n",
    "                                  cv=ShuffleSplit(n_splits=5, test_size=0.2, random_state=0))\n",
    "    print('cross_score:',cross_score)\n",
    "    print('cross_score_mean',cross_score.mean())"
   ]
  },
  {
   "cell_type": "markdown",
   "metadata": {},
   "source": [
    "### Algorithm 4: DecisionTreeRegressor"
   ]
  },
  {
   "cell_type": "code",
   "execution_count": 29,
   "metadata": {},
   "outputs": [
    {
     "name": "stdout",
     "output_type": "stream",
     "text": [
      "cross_score: [ 0.20924212  0.37735331 -0.04066283  0.32136391  0.41201739]\n",
      "cross_score_mean 0.25586278091234\n"
     ]
    }
   ],
   "source": [
    "from sklearn.tree import DecisionTreeRegressor\n",
    "tree=DecisionTreeRegressor()\n",
    "\n",
    "cross_score = cross_val_score(tree, X_train_std, y_train, scoring = 'r2', \\\n",
    "                              cv=ShuffleSplit(n_splits=5, test_size=0.2, random_state=0))\n",
    "print('cross_score:',cross_score)\n",
    "print('cross_score_mean',cross_score.mean())"
   ]
  },
  {
   "cell_type": "markdown",
   "metadata": {},
   "source": [
    "### Algorithm 5: RandomForest"
   ]
  },
  {
   "cell_type": "code",
   "execution_count": null,
   "metadata": {},
   "outputs": [],
   "source": [
    "from sklearn.ensemble import RandomForestRegressor\n",
    "regr = RandomForestRegressor()\n",
    "\n",
    "cross_score = cross_val_score(regr, X_train_std, y_train.values.ravel(), scoring = 'r2', \\\n",
    "                              cv=ShuffleSplit(n_splits=5, test_size=0.2, random_state=0))\n",
    "print('cross_score:',cross_score)\n",
    "print('cross_score_mean',cross_score.mean())"
   ]
  },
  {
   "cell_type": "markdown",
   "metadata": {},
   "source": [
    "cross_score: [0.44195858 0.48748514 0.1609359  0.44141518 0.65151244]\n",
    "cross_score_mean 0.43666144638300375"
   ]
  },
  {
   "cell_type": "markdown",
   "metadata": {},
   "source": [
    "### Model selection\n",
    "Model selection should be based on the performance of the models on the validation dataset which are not involved in training."
   ]
  },
  {
   "cell_type": "markdown",
   "metadata": {},
   "source": [
    "The model that performs best on the validation dataset (i.e. with the highest cross validation score) is the SVM kernel regression model with hyperparameter C = 2."
   ]
  },
  {
   "cell_type": "markdown",
   "metadata": {},
   "source": [
    "## 3 Performance evaluation"
   ]
  },
  {
   "cell_type": "markdown",
   "metadata": {},
   "source": [
    "Now test the performance of the selected model (SVM kerne regression, c=2) on the test dataset."
   ]
  },
  {
   "cell_type": "code",
   "execution_count": 32,
   "metadata": {},
   "outputs": [
    {
     "data": {
      "text/plain": [
       "0.6052433107955563"
      ]
     },
     "execution_count": 32,
     "metadata": {},
     "output_type": "execute_result"
    }
   ],
   "source": [
    "from sklearn.metrics import r2_score\n",
    "y_test_pred = SVR(kernel='rbf', C=2, gamma = 'auto').fit(X_train_std, y_train.values.ravel()).predict(X_test_std)\n",
    "r2_score(y_test, y_test_pred) "
   ]
  },
  {
   "cell_type": "code",
   "execution_count": null,
   "metadata": {},
   "outputs": [],
   "source": []
  }
 ],
 "metadata": {
  "kernelspec": {
   "display_name": "Python 3",
   "language": "python",
   "name": "python3"
  },
  "language_info": {
   "codemirror_mode": {
    "name": "ipython",
    "version": 3
   },
   "file_extension": ".py",
   "mimetype": "text/x-python",
   "name": "python",
   "nbconvert_exporter": "python",
   "pygments_lexer": "ipython3",
   "version": "3.7.3"
  }
 },
 "nbformat": 4,
 "nbformat_minor": 2
}
